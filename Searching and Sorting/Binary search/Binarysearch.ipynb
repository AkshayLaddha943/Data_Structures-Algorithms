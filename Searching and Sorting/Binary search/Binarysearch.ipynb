{
 "cells": [
  {
   "cell_type": "code",
   "execution_count": null,
   "id": "a97c497c",
   "metadata": {},
   "outputs": [],
   "source": [
    "#Binary search\n",
    "#Time complexity: O(log n)\n",
    "\n",
    "def binarysearch(data, value):\n",
    "    l = len(data)\n",
    "    left = 0\n",
    "    right = l-1\n",
    "    \n",
    "    while left <= right:\n",
    "        mid = left+right//2\n",
    "        \n",
    "        if value < data[mid]:\n",
    "            right = mid - 1\n",
    "            \n",
    "        elif value > data[mid]:\n",
    "            left = mid + 1\n",
    "            \n",
    "        else:\n",
    "            return mid\n",
    "        \n",
    "if __name__ == '__main__':\n",
    "    print(binarysearch([1,3,5,2,21,16], 16))"
   ]
  }
 ],
 "metadata": {
  "kernelspec": {
   "display_name": "Python 3",
   "language": "python",
   "name": "python3"
  },
  "language_info": {
   "codemirror_mode": {
    "name": "ipython",
    "version": 3
   },
   "file_extension": ".py",
   "mimetype": "text/x-python",
   "name": "python",
   "nbconvert_exporter": "python",
   "pygments_lexer": "ipython3",
   "version": "3.8.8"
  }
 },
 "nbformat": 4,
 "nbformat_minor": 5
}
